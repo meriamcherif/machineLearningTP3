{
 "cells": [
  {
   "cell_type": "code",
   "execution_count": 5,
   "id": "90df06e1",
   "metadata": {},
   "outputs": [],
   "source": [
    "from sklearn import datasets\n",
    "import numpy as np\n",
    "\n"
   ]
  },
  {
   "cell_type": "code",
   "execution_count": 6,
   "id": "f1f7900f",
   "metadata": {},
   "outputs": [],
   "source": [
    "irisData = datasets.load_iris()\n"
   ]
  },
  {
   "cell_type": "code",
   "execution_count": 7,
   "id": "6bf9ba50",
   "metadata": {
    "scrolled": false
   },
   "outputs": [
    {
     "name": "stdout",
     "output_type": "stream",
     "text": [
      "[[5.1 3.5 1.4 0.2]\n",
      " [4.9 3.  1.4 0.2]\n",
      " [4.7 3.2 1.3 0.2]\n",
      " [4.6 3.1 1.5 0.2]\n",
      " [5.  3.6 1.4 0.2]\n",
      " [5.4 3.9 1.7 0.4]\n",
      " [4.6 3.4 1.4 0.3]\n",
      " [5.  3.4 1.5 0.2]\n",
      " [4.4 2.9 1.4 0.2]\n",
      " [4.9 3.1 1.5 0.1]\n",
      " [5.4 3.7 1.5 0.2]\n",
      " [4.8 3.4 1.6 0.2]\n",
      " [4.8 3.  1.4 0.1]\n",
      " [4.3 3.  1.1 0.1]\n",
      " [5.8 4.  1.2 0.2]\n",
      " [5.7 4.4 1.5 0.4]\n",
      " [5.4 3.9 1.3 0.4]\n",
      " [5.1 3.5 1.4 0.3]\n",
      " [5.7 3.8 1.7 0.3]\n",
      " [5.1 3.8 1.5 0.3]\n",
      " [5.4 3.4 1.7 0.2]\n",
      " [5.1 3.7 1.5 0.4]\n",
      " [4.6 3.6 1.  0.2]\n",
      " [5.1 3.3 1.7 0.5]\n",
      " [4.8 3.4 1.9 0.2]\n",
      " [5.  3.  1.6 0.2]\n",
      " [5.  3.4 1.6 0.4]\n",
      " [5.2 3.5 1.5 0.2]\n",
      " [5.2 3.4 1.4 0.2]\n",
      " [4.7 3.2 1.6 0.2]\n",
      " [4.8 3.1 1.6 0.2]\n",
      " [5.4 3.4 1.5 0.4]\n",
      " [5.2 4.1 1.5 0.1]\n",
      " [5.5 4.2 1.4 0.2]\n",
      " [4.9 3.1 1.5 0.2]\n",
      " [5.  3.2 1.2 0.2]\n",
      " [5.5 3.5 1.3 0.2]\n",
      " [4.9 3.6 1.4 0.1]\n",
      " [4.4 3.  1.3 0.2]\n",
      " [5.1 3.4 1.5 0.2]\n",
      " [5.  3.5 1.3 0.3]\n",
      " [4.5 2.3 1.3 0.3]\n",
      " [4.4 3.2 1.3 0.2]\n",
      " [5.  3.5 1.6 0.6]\n",
      " [5.1 3.8 1.9 0.4]\n",
      " [4.8 3.  1.4 0.3]\n",
      " [5.1 3.8 1.6 0.2]\n",
      " [4.6 3.2 1.4 0.2]\n",
      " [5.3 3.7 1.5 0.2]\n",
      " [5.  3.3 1.4 0.2]\n",
      " [7.  3.2 4.7 1.4]\n",
      " [6.4 3.2 4.5 1.5]\n",
      " [6.9 3.1 4.9 1.5]\n",
      " [5.5 2.3 4.  1.3]\n",
      " [6.5 2.8 4.6 1.5]\n",
      " [5.7 2.8 4.5 1.3]\n",
      " [6.3 3.3 4.7 1.6]\n",
      " [4.9 2.4 3.3 1. ]\n",
      " [6.6 2.9 4.6 1.3]\n",
      " [5.2 2.7 3.9 1.4]\n",
      " [5.  2.  3.5 1. ]\n",
      " [5.9 3.  4.2 1.5]\n",
      " [6.  2.2 4.  1. ]\n",
      " [6.1 2.9 4.7 1.4]\n",
      " [5.6 2.9 3.6 1.3]\n",
      " [6.7 3.1 4.4 1.4]\n",
      " [5.6 3.  4.5 1.5]\n",
      " [5.8 2.7 4.1 1. ]\n",
      " [6.2 2.2 4.5 1.5]\n",
      " [5.6 2.5 3.9 1.1]\n",
      " [5.9 3.2 4.8 1.8]\n",
      " [6.1 2.8 4.  1.3]\n",
      " [6.3 2.5 4.9 1.5]\n",
      " [6.1 2.8 4.7 1.2]\n",
      " [6.4 2.9 4.3 1.3]\n",
      " [6.6 3.  4.4 1.4]\n",
      " [6.8 2.8 4.8 1.4]\n",
      " [6.7 3.  5.  1.7]\n",
      " [6.  2.9 4.5 1.5]\n",
      " [5.7 2.6 3.5 1. ]\n",
      " [5.5 2.4 3.8 1.1]\n",
      " [5.5 2.4 3.7 1. ]\n",
      " [5.8 2.7 3.9 1.2]\n",
      " [6.  2.7 5.1 1.6]\n",
      " [5.4 3.  4.5 1.5]\n",
      " [6.  3.4 4.5 1.6]\n",
      " [6.7 3.1 4.7 1.5]\n",
      " [6.3 2.3 4.4 1.3]\n",
      " [5.6 3.  4.1 1.3]\n",
      " [5.5 2.5 4.  1.3]\n",
      " [5.5 2.6 4.4 1.2]\n",
      " [6.1 3.  4.6 1.4]\n",
      " [5.8 2.6 4.  1.2]\n",
      " [5.  2.3 3.3 1. ]\n",
      " [5.6 2.7 4.2 1.3]\n",
      " [5.7 3.  4.2 1.2]\n",
      " [5.7 2.9 4.2 1.3]\n",
      " [6.2 2.9 4.3 1.3]\n",
      " [5.1 2.5 3.  1.1]\n",
      " [5.7 2.8 4.1 1.3]\n",
      " [6.3 3.3 6.  2.5]\n",
      " [5.8 2.7 5.1 1.9]\n",
      " [7.1 3.  5.9 2.1]\n",
      " [6.3 2.9 5.6 1.8]\n",
      " [6.5 3.  5.8 2.2]\n",
      " [7.6 3.  6.6 2.1]\n",
      " [4.9 2.5 4.5 1.7]\n",
      " [7.3 2.9 6.3 1.8]\n",
      " [6.7 2.5 5.8 1.8]\n",
      " [7.2 3.6 6.1 2.5]\n",
      " [6.5 3.2 5.1 2. ]\n",
      " [6.4 2.7 5.3 1.9]\n",
      " [6.8 3.  5.5 2.1]\n",
      " [5.7 2.5 5.  2. ]\n",
      " [5.8 2.8 5.1 2.4]\n",
      " [6.4 3.2 5.3 2.3]\n",
      " [6.5 3.  5.5 1.8]\n",
      " [7.7 3.8 6.7 2.2]\n",
      " [7.7 2.6 6.9 2.3]\n",
      " [6.  2.2 5.  1.5]\n",
      " [6.9 3.2 5.7 2.3]\n",
      " [5.6 2.8 4.9 2. ]\n",
      " [7.7 2.8 6.7 2. ]\n",
      " [6.3 2.7 4.9 1.8]\n",
      " [6.7 3.3 5.7 2.1]\n",
      " [7.2 3.2 6.  1.8]\n",
      " [6.2 2.8 4.8 1.8]\n",
      " [6.1 3.  4.9 1.8]\n",
      " [6.4 2.8 5.6 2.1]\n",
      " [7.2 3.  5.8 1.6]\n",
      " [7.4 2.8 6.1 1.9]\n",
      " [7.9 3.8 6.4 2. ]\n",
      " [6.4 2.8 5.6 2.2]\n",
      " [6.3 2.8 5.1 1.5]\n",
      " [6.1 2.6 5.6 1.4]\n",
      " [7.7 3.  6.1 2.3]\n",
      " [6.3 3.4 5.6 2.4]\n",
      " [6.4 3.1 5.5 1.8]\n",
      " [6.  3.  4.8 1.8]\n",
      " [6.9 3.1 5.4 2.1]\n",
      " [6.7 3.1 5.6 2.4]\n",
      " [6.9 3.1 5.1 2.3]\n",
      " [5.8 2.7 5.1 1.9]\n",
      " [6.8 3.2 5.9 2.3]\n",
      " [6.7 3.3 5.7 2.5]\n",
      " [6.7 3.  5.2 2.3]\n",
      " [6.3 2.5 5.  1.9]\n",
      " [6.5 3.  5.2 2. ]\n",
      " [6.2 3.4 5.4 2.3]\n",
      " [5.9 3.  5.1 1.8]]\n",
      "[0 0 0 0 0 0 0 0 0 0 0 0 0 0 0 0 0 0 0 0 0 0 0 0 0 0 0 0 0 0 0 0 0 0 0 0 0\n",
      " 0 0 0 0 0 0 0 0 0 0 0 0 0 1 1 1 1 1 1 1 1 1 1 1 1 1 1 1 1 1 1 1 1 1 1 1 1\n",
      " 1 1 1 1 1 1 1 1 1 1 1 1 1 1 1 1 1 1 1 1 1 1 1 1 1 1 2 2 2 2 2 2 2 2 2 2 2\n",
      " 2 2 2 2 2 2 2 2 2 2 2 2 2 2 2 2 2 2 2 2 2 2 2 2 2 2 2 2 2 2 2 2 2 2 2 2 2\n",
      " 2 2]\n"
     ]
    }
   ],
   "source": [
    "print (irisData.data)\n",
    "print (irisData.target)"
   ]
  },
  {
   "cell_type": "code",
   "execution_count": 8,
   "id": "0564af87",
   "metadata": {},
   "outputs": [
    {
     "name": "stdout",
     "output_type": "stream",
     "text": [
      "50\n"
     ]
    }
   ],
   "source": [
    "print(np.count_nonzero( irisData.target == 0))"
   ]
  },
  {
   "cell_type": "code",
   "execution_count": 9,
   "id": "c1d158b6",
   "metadata": {},
   "outputs": [
    {
     "name": "stdout",
     "output_type": "stream",
     "text": [
      "0\n"
     ]
    }
   ],
   "source": [
    "print(irisData.target[31])"
   ]
  },
  {
   "cell_type": "code",
   "execution_count": 10,
   "id": "7a00cb7a",
   "metadata": {},
   "outputs": [
    {
     "data": {
      "text/plain": [
       "['sepal length (cm)',\n",
       " 'sepal width (cm)',\n",
       " 'petal length (cm)',\n",
       " 'petal width (cm)']"
      ]
     },
     "execution_count": 10,
     "metadata": {},
     "output_type": "execute_result"
    }
   ],
   "source": [
    "irisData.feature_names"
   ]
  },
  {
   "cell_type": "code",
   "execution_count": 11,
   "id": "48453ad6",
   "metadata": {},
   "outputs": [
    {
     "data": {
      "text/plain": [
       "array(['setosa', 'versicolor', 'virginica'], dtype='<U10')"
      ]
     },
     "execution_count": 11,
     "metadata": {},
     "output_type": "execute_result"
    }
   ],
   "source": [
    "irisData.target_names"
   ]
  },
  {
   "cell_type": "code",
   "execution_count": 12,
   "id": "817b552b",
   "metadata": {},
   "outputs": [],
   "source": [
    "import collections"
   ]
  },
  {
   "cell_type": "code",
   "execution_count": 13,
   "id": "a04167d1",
   "metadata": {},
   "outputs": [],
   "source": [
    "from collections import Counter\n"
   ]
  },
  {
   "cell_type": "code",
   "execution_count": 14,
   "id": "724da5ba",
   "metadata": {},
   "outputs": [
    {
     "data": {
      "text/plain": [
       "Counter({'data': array([[5.1, 3.5, 1.4, 0.2],\n",
       "                [4.9, 3. , 1.4, 0.2],\n",
       "                [4.7, 3.2, 1.3, 0.2],\n",
       "                [4.6, 3.1, 1.5, 0.2],\n",
       "                [5. , 3.6, 1.4, 0.2],\n",
       "                [5.4, 3.9, 1.7, 0.4],\n",
       "                [4.6, 3.4, 1.4, 0.3],\n",
       "                [5. , 3.4, 1.5, 0.2],\n",
       "                [4.4, 2.9, 1.4, 0.2],\n",
       "                [4.9, 3.1, 1.5, 0.1],\n",
       "                [5.4, 3.7, 1.5, 0.2],\n",
       "                [4.8, 3.4, 1.6, 0.2],\n",
       "                [4.8, 3. , 1.4, 0.1],\n",
       "                [4.3, 3. , 1.1, 0.1],\n",
       "                [5.8, 4. , 1.2, 0.2],\n",
       "                [5.7, 4.4, 1.5, 0.4],\n",
       "                [5.4, 3.9, 1.3, 0.4],\n",
       "                [5.1, 3.5, 1.4, 0.3],\n",
       "                [5.7, 3.8, 1.7, 0.3],\n",
       "                [5.1, 3.8, 1.5, 0.3],\n",
       "                [5.4, 3.4, 1.7, 0.2],\n",
       "                [5.1, 3.7, 1.5, 0.4],\n",
       "                [4.6, 3.6, 1. , 0.2],\n",
       "                [5.1, 3.3, 1.7, 0.5],\n",
       "                [4.8, 3.4, 1.9, 0.2],\n",
       "                [5. , 3. , 1.6, 0.2],\n",
       "                [5. , 3.4, 1.6, 0.4],\n",
       "                [5.2, 3.5, 1.5, 0.2],\n",
       "                [5.2, 3.4, 1.4, 0.2],\n",
       "                [4.7, 3.2, 1.6, 0.2],\n",
       "                [4.8, 3.1, 1.6, 0.2],\n",
       "                [5.4, 3.4, 1.5, 0.4],\n",
       "                [5.2, 4.1, 1.5, 0.1],\n",
       "                [5.5, 4.2, 1.4, 0.2],\n",
       "                [4.9, 3.1, 1.5, 0.2],\n",
       "                [5. , 3.2, 1.2, 0.2],\n",
       "                [5.5, 3.5, 1.3, 0.2],\n",
       "                [4.9, 3.6, 1.4, 0.1],\n",
       "                [4.4, 3. , 1.3, 0.2],\n",
       "                [5.1, 3.4, 1.5, 0.2],\n",
       "                [5. , 3.5, 1.3, 0.3],\n",
       "                [4.5, 2.3, 1.3, 0.3],\n",
       "                [4.4, 3.2, 1.3, 0.2],\n",
       "                [5. , 3.5, 1.6, 0.6],\n",
       "                [5.1, 3.8, 1.9, 0.4],\n",
       "                [4.8, 3. , 1.4, 0.3],\n",
       "                [5.1, 3.8, 1.6, 0.2],\n",
       "                [4.6, 3.2, 1.4, 0.2],\n",
       "                [5.3, 3.7, 1.5, 0.2],\n",
       "                [5. , 3.3, 1.4, 0.2],\n",
       "                [7. , 3.2, 4.7, 1.4],\n",
       "                [6.4, 3.2, 4.5, 1.5],\n",
       "                [6.9, 3.1, 4.9, 1.5],\n",
       "                [5.5, 2.3, 4. , 1.3],\n",
       "                [6.5, 2.8, 4.6, 1.5],\n",
       "                [5.7, 2.8, 4.5, 1.3],\n",
       "                [6.3, 3.3, 4.7, 1.6],\n",
       "                [4.9, 2.4, 3.3, 1. ],\n",
       "                [6.6, 2.9, 4.6, 1.3],\n",
       "                [5.2, 2.7, 3.9, 1.4],\n",
       "                [5. , 2. , 3.5, 1. ],\n",
       "                [5.9, 3. , 4.2, 1.5],\n",
       "                [6. , 2.2, 4. , 1. ],\n",
       "                [6.1, 2.9, 4.7, 1.4],\n",
       "                [5.6, 2.9, 3.6, 1.3],\n",
       "                [6.7, 3.1, 4.4, 1.4],\n",
       "                [5.6, 3. , 4.5, 1.5],\n",
       "                [5.8, 2.7, 4.1, 1. ],\n",
       "                [6.2, 2.2, 4.5, 1.5],\n",
       "                [5.6, 2.5, 3.9, 1.1],\n",
       "                [5.9, 3.2, 4.8, 1.8],\n",
       "                [6.1, 2.8, 4. , 1.3],\n",
       "                [6.3, 2.5, 4.9, 1.5],\n",
       "                [6.1, 2.8, 4.7, 1.2],\n",
       "                [6.4, 2.9, 4.3, 1.3],\n",
       "                [6.6, 3. , 4.4, 1.4],\n",
       "                [6.8, 2.8, 4.8, 1.4],\n",
       "                [6.7, 3. , 5. , 1.7],\n",
       "                [6. , 2.9, 4.5, 1.5],\n",
       "                [5.7, 2.6, 3.5, 1. ],\n",
       "                [5.5, 2.4, 3.8, 1.1],\n",
       "                [5.5, 2.4, 3.7, 1. ],\n",
       "                [5.8, 2.7, 3.9, 1.2],\n",
       "                [6. , 2.7, 5.1, 1.6],\n",
       "                [5.4, 3. , 4.5, 1.5],\n",
       "                [6. , 3.4, 4.5, 1.6],\n",
       "                [6.7, 3.1, 4.7, 1.5],\n",
       "                [6.3, 2.3, 4.4, 1.3],\n",
       "                [5.6, 3. , 4.1, 1.3],\n",
       "                [5.5, 2.5, 4. , 1.3],\n",
       "                [5.5, 2.6, 4.4, 1.2],\n",
       "                [6.1, 3. , 4.6, 1.4],\n",
       "                [5.8, 2.6, 4. , 1.2],\n",
       "                [5. , 2.3, 3.3, 1. ],\n",
       "                [5.6, 2.7, 4.2, 1.3],\n",
       "                [5.7, 3. , 4.2, 1.2],\n",
       "                [5.7, 2.9, 4.2, 1.3],\n",
       "                [6.2, 2.9, 4.3, 1.3],\n",
       "                [5.1, 2.5, 3. , 1.1],\n",
       "                [5.7, 2.8, 4.1, 1.3],\n",
       "                [6.3, 3.3, 6. , 2.5],\n",
       "                [5.8, 2.7, 5.1, 1.9],\n",
       "                [7.1, 3. , 5.9, 2.1],\n",
       "                [6.3, 2.9, 5.6, 1.8],\n",
       "                [6.5, 3. , 5.8, 2.2],\n",
       "                [7.6, 3. , 6.6, 2.1],\n",
       "                [4.9, 2.5, 4.5, 1.7],\n",
       "                [7.3, 2.9, 6.3, 1.8],\n",
       "                [6.7, 2.5, 5.8, 1.8],\n",
       "                [7.2, 3.6, 6.1, 2.5],\n",
       "                [6.5, 3.2, 5.1, 2. ],\n",
       "                [6.4, 2.7, 5.3, 1.9],\n",
       "                [6.8, 3. , 5.5, 2.1],\n",
       "                [5.7, 2.5, 5. , 2. ],\n",
       "                [5.8, 2.8, 5.1, 2.4],\n",
       "                [6.4, 3.2, 5.3, 2.3],\n",
       "                [6.5, 3. , 5.5, 1.8],\n",
       "                [7.7, 3.8, 6.7, 2.2],\n",
       "                [7.7, 2.6, 6.9, 2.3],\n",
       "                [6. , 2.2, 5. , 1.5],\n",
       "                [6.9, 3.2, 5.7, 2.3],\n",
       "                [5.6, 2.8, 4.9, 2. ],\n",
       "                [7.7, 2.8, 6.7, 2. ],\n",
       "                [6.3, 2.7, 4.9, 1.8],\n",
       "                [6.7, 3.3, 5.7, 2.1],\n",
       "                [7.2, 3.2, 6. , 1.8],\n",
       "                [6.2, 2.8, 4.8, 1.8],\n",
       "                [6.1, 3. , 4.9, 1.8],\n",
       "                [6.4, 2.8, 5.6, 2.1],\n",
       "                [7.2, 3. , 5.8, 1.6],\n",
       "                [7.4, 2.8, 6.1, 1.9],\n",
       "                [7.9, 3.8, 6.4, 2. ],\n",
       "                [6.4, 2.8, 5.6, 2.2],\n",
       "                [6.3, 2.8, 5.1, 1.5],\n",
       "                [6.1, 2.6, 5.6, 1.4],\n",
       "                [7.7, 3. , 6.1, 2.3],\n",
       "                [6.3, 3.4, 5.6, 2.4],\n",
       "                [6.4, 3.1, 5.5, 1.8],\n",
       "                [6. , 3. , 4.8, 1.8],\n",
       "                [6.9, 3.1, 5.4, 2.1],\n",
       "                [6.7, 3.1, 5.6, 2.4],\n",
       "                [6.9, 3.1, 5.1, 2.3],\n",
       "                [5.8, 2.7, 5.1, 1.9],\n",
       "                [6.8, 3.2, 5.9, 2.3],\n",
       "                [6.7, 3.3, 5.7, 2.5],\n",
       "                [6.7, 3. , 5.2, 2.3],\n",
       "                [6.3, 2.5, 5. , 1.9],\n",
       "                [6.5, 3. , 5.2, 2. ],\n",
       "                [6.2, 3.4, 5.4, 2.3],\n",
       "                [5.9, 3. , 5.1, 1.8]]),\n",
       "         'target': array([0, 0, 0, 0, 0, 0, 0, 0, 0, 0, 0, 0, 0, 0, 0, 0, 0, 0, 0, 0, 0, 0,\n",
       "                0, 0, 0, 0, 0, 0, 0, 0, 0, 0, 0, 0, 0, 0, 0, 0, 0, 0, 0, 0, 0, 0,\n",
       "                0, 0, 0, 0, 0, 0, 1, 1, 1, 1, 1, 1, 1, 1, 1, 1, 1, 1, 1, 1, 1, 1,\n",
       "                1, 1, 1, 1, 1, 1, 1, 1, 1, 1, 1, 1, 1, 1, 1, 1, 1, 1, 1, 1, 1, 1,\n",
       "                1, 1, 1, 1, 1, 1, 1, 1, 1, 1, 1, 1, 2, 2, 2, 2, 2, 2, 2, 2, 2, 2,\n",
       "                2, 2, 2, 2, 2, 2, 2, 2, 2, 2, 2, 2, 2, 2, 2, 2, 2, 2, 2, 2, 2, 2,\n",
       "                2, 2, 2, 2, 2, 2, 2, 2, 2, 2, 2, 2, 2, 2, 2, 2, 2, 2]),\n",
       "         'frame': None,\n",
       "         'target_names': array(['setosa', 'versicolor', 'virginica'], dtype='<U10'),\n",
       "         'DESCR': '.. _iris_dataset:\\n\\nIris plants dataset\\n--------------------\\n\\n**Data Set Characteristics:**\\n\\n    :Number of Instances: 150 (50 in each of three classes)\\n    :Number of Attributes: 4 numeric, predictive attributes and the class\\n    :Attribute Information:\\n        - sepal length in cm\\n        - sepal width in cm\\n        - petal length in cm\\n        - petal width in cm\\n        - class:\\n                - Iris-Setosa\\n                - Iris-Versicolour\\n                - Iris-Virginica\\n                \\n    :Summary Statistics:\\n\\n    ============== ==== ==== ======= ===== ====================\\n                    Min  Max   Mean    SD   Class Correlation\\n    ============== ==== ==== ======= ===== ====================\\n    sepal length:   4.3  7.9   5.84   0.83    0.7826\\n    sepal width:    2.0  4.4   3.05   0.43   -0.4194\\n    petal length:   1.0  6.9   3.76   1.76    0.9490  (high!)\\n    petal width:    0.1  2.5   1.20   0.76    0.9565  (high!)\\n    ============== ==== ==== ======= ===== ====================\\n\\n    :Missing Attribute Values: None\\n    :Class Distribution: 33.3% for each of 3 classes.\\n    :Creator: R.A. Fisher\\n    :Donor: Michael Marshall (MARSHALL%PLU@io.arc.nasa.gov)\\n    :Date: July, 1988\\n\\nThe famous Iris database, first used by Sir R.A. Fisher. The dataset is taken\\nfrom Fisher\\'s paper. Note that it\\'s the same as in R, but not as in the UCI\\nMachine Learning Repository, which has two wrong data points.\\n\\nThis is perhaps the best known database to be found in the\\npattern recognition literature.  Fisher\\'s paper is a classic in the field and\\nis referenced frequently to this day.  (See Duda & Hart, for example.)  The\\ndata set contains 3 classes of 50 instances each, where each class refers to a\\ntype of iris plant.  One class is linearly separable from the other 2; the\\nlatter are NOT linearly separable from each other.\\n\\n.. topic:: References\\n\\n   - Fisher, R.A. \"The use of multiple measurements in taxonomic problems\"\\n     Annual Eugenics, 7, Part II, 179-188 (1936); also in \"Contributions to\\n     Mathematical Statistics\" (John Wiley, NY, 1950).\\n   - Duda, R.O., & Hart, P.E. (1973) Pattern Classification and Scene Analysis.\\n     (Q327.D83) John Wiley & Sons.  ISBN 0-471-22361-1.  See page 218.\\n   - Dasarathy, B.V. (1980) \"Nosing Around the Neighborhood: A New System\\n     Structure and Classification Rule for Recognition in Partially Exposed\\n     Environments\".  IEEE Transactions on Pattern Analysis and Machine\\n     Intelligence, Vol. PAMI-2, No. 1, 67-71.\\n   - Gates, G.W. (1972) \"The Reduced Nearest Neighbor Rule\".  IEEE Transactions\\n     on Information Theory, May 1972, 431-433.\\n   - See also: 1988 MLC Proceedings, 54-64.  Cheeseman et al\"s AUTOCLASS II\\n     conceptual clustering system finds 3 classes in the data.\\n   - Many, many more ...',\n",
       "         'feature_names': ['sepal length (cm)',\n",
       "          'sepal width (cm)',\n",
       "          'petal length (cm)',\n",
       "          'petal width (cm)'],\n",
       "         'filename': 'iris.csv',\n",
       "         'data_module': 'sklearn.datasets.data'})"
      ]
     },
     "execution_count": 14,
     "metadata": {},
     "output_type": "execute_result"
    }
   ],
   "source": [
    "collections.Counter(irisData)"
   ]
  },
  {
   "cell_type": "code",
   "execution_count": 15,
   "id": "e756d969",
   "metadata": {},
   "outputs": [
    {
     "name": "stdout",
     "output_type": "stream",
     "text": [
      "Counter({0: 50, 1: 50, 2: 50})\n"
     ]
    }
   ],
   "source": [
    "print(collections.Counter(irisData.target))"
   ]
  },
  {
   "cell_type": "code",
   "execution_count": 16,
   "id": "7ad3b6e1",
   "metadata": {},
   "outputs": [
    {
     "name": "stdout",
     "output_type": "stream",
     "text": [
      "[5.4 3.4 1.5 0.4]\n"
     ]
    }
   ],
   "source": [
    "print(irisData.data[31])"
   ]
  },
  {
   "cell_type": "code",
   "execution_count": 17,
   "id": "d8b92cec",
   "metadata": {},
   "outputs": [
    {
     "name": "stdout",
     "output_type": "stream",
     "text": [
      "0\n"
     ]
    }
   ],
   "source": [
    "print(irisData.target[31])"
   ]
  },
  {
   "cell_type": "markdown",
   "id": "750f7d29",
   "metadata": {},
   "source": [
    "Affichage de la répartition des données selon un couple d'attributs"
   ]
  },
  {
   "cell_type": "code",
   "execution_count": 18,
   "id": "4c1c73d9",
   "metadata": {
    "scrolled": true
   },
   "outputs": [
    {
     "data": {
      "image/png": "[encoded data removed]",
      "text/plain": [
       "<Figure size 432x288 with 1 Axes>"
      ]
     },
     "metadata": {
      "needs_background": "light"
     },
     "output_type": "display_data"
    }
   ],
   "source": [
    "import matplotlib\n",
    "from itertools import cycle\n",
    "import pylab as pl #facilite travail matplotlib\n",
    "def plot_2D(data, target, target_names):\n",
    "    colors = cycle('rgbcmykw') # cycle de couleurs\n",
    "    target_ids = range(len(target_names)) #id des classes\n",
    "    pl.figure()\n",
    "    for i, c, label in zip(target_ids, colors, target_names): #i:0,1,2\n",
    "        pl.scatter(data[target == i, 2], data[target == i, 3], c=c, label=label)\n",
    "    pl.legend()\n",
    "    pl.plot([2.5,2.5],[0,3],\"b--\")\n",
    "    pl.show()\n",
    "    \n",
    "plot_2D(irisData.data,irisData.target,irisData.target_names)"
   ]
  },
  {
   "cell_type": "markdown",
   "id": "ac787983",
   "metadata": {},
   "source": [
    "### Naive Bayes Classifier"
   ]
  },
  {
   "cell_type": "code",
   "execution_count": 24,
   "id": "cea2131c",
   "metadata": {},
   "outputs": [
    {
     "name": "stdout",
     "output_type": "stream",
     "text": [
      "[0]\n",
      "[2]\n",
      "[0 0 0 0 0 0 0 0 0 0 0 0 0 0 0 0 0 0 0 0 0 0 0 0 0 0 0 0 0 0 0 0 0 0 0 0 0\n",
      " 0 0 0 0 0 0 0 0 0 0 0 0 0 1 1 1 1 1 1 1 1 1 1 1 1 1 1 1 1 1 1 2 1 2 1 2 1\n",
      " 1 1 1 1 1 1 1 1 1 2 1 1 1 1 1 1 1 1 1 1 1 1 1 1 1 1 2 2 2 2 2 2 2 2 2 2 2\n",
      " 2 2 2 2 2 2 2 2 2 2 2 2 2 2 2 2 2 2 1 2 1 2 1 2 2 2 2 2 2 2 2 2 2 2 2 2 2\n",
      " 2 2]\n"
     ]
    }
   ],
   "source": [
    ">>> from sklearn import naive_bayes\n",
    ">>> nb = naive_bayes.MultinomialNB(fit_prior=True)# un algo d'apprentissage\n",
    ">>> irisData = datasets.load_iris()\n",
    ">>> nb.fit(irisData.data[:], irisData.target[:])\n",
    ">>> p31 = nb.predict([irisData.data[31]])\n",
    ">>> print (p31)\n",
    ">>> plast = nb.predict([irisData.data[-1]])\n",
    ">>> print (plast)\n",
    ">>> p = nb.predict(irisData.data[:])\n",
    ">>> print (p)\n"
   ]
  },
  {
   "cell_type": "code",
   "execution_count": 20,
   "id": "a590d83d",
   "metadata": {},
   "outputs": [
    {
     "data": {
      "text/plain": [
       "array([1, 1, 1, 1, 1, 1, 1, 1, 1, 1, 1, 1, 1, 1, 1, 1, 1, 1, 1, 1, 1, 1,\n",
       "       1, 1, 1, 1, 1, 1, 1, 1, 1, 1, 1, 1, 1, 1, 1, 1, 1, 1, 1, 1, 1, 1,\n",
       "       1, 1, 1, 1, 1])"
      ]
     },
     "execution_count": 20,
     "metadata": {},
     "output_type": "execute_result"
    }
   ],
   "source": [
    ">>> from sklearn import naive_bayes\n",
    ">>> nb = naive_bayes.MultinomialNB(fit_prior=True)\n",
    ">>> nb.fit(irisData.data[:99], irisData.target[:99])#mel 0 lel 98\n",
    ">>> nb.predict(irisData.data[100:149])"
   ]
  },
  {
   "cell_type": "markdown",
   "id": "9379af2c",
   "metadata": {},
   "source": [
    "### Classifier performance test"
   ]
  },
  {
   "cell_type": "code",
   "execution_count": 21,
   "id": "a09a628c",
   "metadata": {
    "scrolled": true
   },
   "outputs": [
    {
     "name": "stdout",
     "output_type": "stream",
     "text": [
      "7\n",
      "0.04666666666666667\n"
     ]
    }
   ],
   "source": [
    "#Methode 1\n",
    "\n",
    "Y=irisData.target\n",
    "ea = 0\n",
    "for i in range(len(irisData.data)):\n",
    "    if (p[i] != Y[i]):\n",
    "        ea = ea+1\n",
    "print(ea)\n",
    "print (ea/len(irisData.data))"
   ]
  },
  {
   "cell_type": "code",
   "execution_count": 25,
   "id": "94343d4c",
   "metadata": {},
   "outputs": [
    {
     "name": "stdout",
     "output_type": "stream",
     "text": [
      "7\n",
      "0.04666666666666667\n"
     ]
    }
   ],
   "source": [
    "#Methode 2\n",
    "import numpy as np\n",
    "print(np.count_nonzero(Y-p))\n",
    "print(np.count_nonzero(Y-p)/len(irisData.data))\n"
   ]
  },
  {
   "cell_type": "code",
   "execution_count": 26,
   "id": "883b3b0d",
   "metadata": {},
   "outputs": [
    {
     "name": "stdout",
     "output_type": "stream",
     "text": [
      "0.9533333333333334\n"
     ]
    }
   ],
   "source": [
    "#Methode 3\n",
    "\n",
    "print(nb.score(irisData.data[:], irisData.target[:]))\n"
   ]
  },
  {
   "cell_type": "code",
   "execution_count": 27,
   "id": "afafd030",
   "metadata": {},
   "outputs": [
    {
     "name": "stdout",
     "output_type": "stream",
     "text": [
      "68\n",
      "70\n",
      "72\n",
      "83\n",
      "129\n",
      "131\n",
      "133\n",
      "7\n",
      "0.04666666666666667\n"
     ]
    }
   ],
   "source": [
    "Y=irisData.target\n",
    "ea = 0\n",
    "for i in range(len(irisData.data)):\n",
    "    if (p[i] != Y[i]):\n",
    "        ea = ea+1\n",
    "        print(i)\n",
    "print(ea)\n",
    "print (ea/len(irisData.data))"
   ]
  },
  {
   "cell_type": "code",
   "execution_count": 28,
   "id": "416eee96",
   "metadata": {},
   "outputs": [],
   "source": [
    "# Random test split\n"
   ]
  },
  {
   "cell_type": "code",
   "execution_count": 29,
   "id": "067cc559",
   "metadata": {},
   "outputs": [
    {
     "name": "stdout",
     "output_type": "stream",
     "text": [
      "[[array([7.2, 3.2, 6. , 1.8]), array([5.8, 4. , 1.2, 0.2]), array([5.4, 3.4, 1.7, 0.2]), array([5.4, 3.9, 1.3, 0.4]), array([5. , 3.4, 1.5, 0.2]), array([6.8, 2.8, 4.8, 1.4]), array([6.2, 3.4, 5.4, 2.3]), array([6.7, 3.3, 5.7, 2.5]), array([4.9, 2.5, 4.5, 1.7]), array([5.5, 2.4, 3.8, 1.1]), array([5.8, 2.7, 3.9, 1.2]), array([5.7, 3. , 4.2, 1.2]), array([6.8, 2.8, 4.8, 1.4]), array([6.7, 3. , 5.2, 2.3]), array([4.9, 2.5, 4.5, 1.7]), array([5.1, 3.8, 1.6, 0.2]), array([5.5, 4.2, 1.4, 0.2]), array([5. , 3. , 1.6, 0.2]), array([6.3, 3.3, 6. , 2.5]), array([6.6, 2.9, 4.6, 1.3]), array([6. , 2.7, 5.1, 1.6]), array([5.1, 3.7, 1.5, 0.4]), array([5.1, 3.5, 1.4, 0.2]), array([5. , 3. , 1.6, 0.2]), array([7.7, 3. , 6.1, 2.3]), array([6.3, 2.5, 4.9, 1.5]), array([4.5, 2.3, 1.3, 0.3]), array([6.7, 3. , 5. , 1.7]), array([5.7, 2.6, 3.5, 1. ]), array([6.9, 3.1, 5.1, 2.3]), array([5.1, 3.5, 1.4, 0.3]), array([5. , 3.5, 1.3, 0.3]), array([7.2, 3.6, 6.1, 2.5]), array([4.9, 2.5, 4.5, 1.7]), array([4.9, 3.1, 1.5, 0.2]), array([5.9, 3. , 4.2, 1.5]), array([4.9, 3.1, 1.5, 0.1]), array([5.5, 2.4, 3.8, 1.1]), array([5.9, 3. , 5.1, 1.8]), array([5. , 3.5, 1.3, 0.3]), array([6.4, 3.2, 5.3, 2.3]), array([6.9, 3.1, 4.9, 1.5]), array([5.3, 3.7, 1.5, 0.2]), array([5. , 3.6, 1.4, 0.2]), array([6.5, 3. , 5.8, 2.2]), array([4.6, 3.1, 1.5, 0.2]), array([6.4, 2.7, 5.3, 1.9]), array([6.2, 3.4, 5.4, 2.3]), array([6.5, 2.8, 4.6, 1.5]), array([6.4, 2.9, 4.3, 1.3]), array([7.3, 2.9, 6.3, 1.8]), array([7.7, 3. , 6.1, 2.3]), array([5.1, 3.8, 1.6, 0.2]), array([4.7, 3.2, 1.6, 0.2]), array([7. , 3.2, 4.7, 1.4]), array([4.6, 3.1, 1.5, 0.2]), array([5.1, 3.8, 1.9, 0.4]), array([6.4, 3.1, 5.5, 1.8]), array([5. , 2.3, 3.3, 1. ]), array([6.2, 2.9, 4.3, 1.3]), array([6. , 2.2, 5. , 1.5]), array([7. , 3.2, 4.7, 1.4]), array([5.4, 3.9, 1.3, 0.4]), array([4.8, 3. , 1.4, 0.3]), array([4.6, 3.6, 1. , 0.2]), array([5.7, 2.8, 4.5, 1.3]), array([5.7, 3. , 4.2, 1.2]), array([5.2, 2.7, 3.9, 1.4]), array([6.3, 3.3, 6. , 2.5]), array([5.8, 2.7, 5.1, 1.9]), array([6.7, 2.5, 5.8, 1.8]), array([5. , 3.2, 1.2, 0.2]), array([6.7, 3.1, 4.4, 1.4]), array([4.9, 3. , 1.4, 0.2]), array([6.4, 2.8, 5.6, 2.2]), array([4.3, 3. , 1.1, 0.1]), array([5. , 2. , 3.5, 1. ]), array([5.5, 4.2, 1.4, 0.2]), array([7.7, 3. , 6.1, 2.3]), array([5.6, 2.7, 4.2, 1.3]), array([6.2, 3.4, 5.4, 2.3]), array([5.7, 3. , 4.2, 1.2]), array([5.5, 3.5, 1.3, 0.2]), array([5.4, 3.4, 1.5, 0.4]), array([6.2, 2.8, 4.8, 1.8]), array([5.8, 2.7, 4.1, 1. ]), array([6.6, 3. , 4.4, 1.4]), array([5. , 3.4, 1.5, 0.2]), array([6.9, 3.2, 5.7, 2.3]), array([6.7, 2.5, 5.8, 1.8]), array([4.6, 3.6, 1. , 0.2]), array([6.5, 3. , 5.8, 2.2]), array([5.4, 3.9, 1.7, 0.4]), array([4.4, 2.9, 1.4, 0.2]), array([6.5, 3. , 5.5, 1.8]), array([5.1, 3.7, 1.5, 0.4]), array([7.2, 3.6, 6.1, 2.5]), array([6.3, 3.3, 4.7, 1.6]), array([6. , 3. , 4.8, 1.8]), array([6.2, 3.4, 5.4, 2.3]), array([7.1, 3. , 5.9, 2.1]), array([6.7, 3.3, 5.7, 2.5]), array([4.6, 3.1, 1.5, 0.2]), array([6. , 3. , 4.8, 1.8]), array([6.9, 3.1, 5.1, 2.3]), array([7.3, 2.9, 6.3, 1.8]), array([7.7, 3. , 6.1, 2.3]), array([5.5, 2.6, 4.4, 1.2]), array([5.6, 2.7, 4.2, 1.3]), array([5.8, 2.7, 3.9, 1.2]), array([4.6, 3.4, 1.4, 0.3]), array([4.6, 3.4, 1.4, 0.3]), array([6.4, 2.9, 4.3, 1.3]), array([6.9, 3.1, 5.4, 2.1]), array([6.9, 3.1, 5.4, 2.1]), array([5.4, 3.9, 1.3, 0.4]), array([6.1, 2.8, 4. , 1.3]), array([4.8, 3.4, 1.9, 0.2]), array([4.9, 3. , 1.4, 0.2]), array([6.4, 2.7, 5.3, 1.9]), array([6. , 2.7, 5.1, 1.6]), array([5. , 3.6, 1.4, 0.2]), array([4.9, 2.4, 3.3, 1. ]), array([6.3, 3.4, 5.6, 2.4]), array([5. , 3. , 1.6, 0.2]), array([5.2, 3.4, 1.4, 0.2]), array([4.9, 2.4, 3.3, 1. ]), array([5.5, 4.2, 1.4, 0.2]), array([4.4, 2.9, 1.4, 0.2]), array([5.9, 3.2, 4.8, 1.8]), array([5.9, 3. , 4.2, 1.5]), array([5.6, 2.5, 3.9, 1.1]), array([5.2, 2.7, 3.9, 1.4]), array([6.7, 3. , 5. , 1.7]), array([5.8, 2.7, 3.9, 1.2])], [2, 2, 1, 1, 0, 1, 2, 1, 0, 2, 1, 0, 1, 2, 1, 2, 2, 0, 0, 1, 2, 2, 0, 2, 0, 1, 0, 2, 2, 1, 2, 0, 1, 0, 1, 2, 0, 1, 1, 0, 2, 1, 0, 2, 0, 0, 0, 1, 1, 0, 0, 0, 0, 0, 2, 2, 1, 1, 1, 1, 1, 2, 2, 1, 2, 2, 2, 2, 1, 2, 2, 1, 0, 2, 1, 2, 2, 1, 0, 2, 1, 0, 1, 2, 2, 1, 0, 0, 2, 0, 0, 1, 2, 1, 0, 1, 2, 1, 0, 0, 1, 2, 2, 0, 1, 0, 0, 1, 0, 2, 0, 0, 2, 2, 1, 2, 1, 1, 2, 1, 0, 2, 2, 0, 2, 0, 0, 2, 1, 1, 2, 1, 0, 1, 0], [array([5.1, 3.5, 1.4, 0.2]), array([5.7, 2.6, 3.5, 1. ]), array([4.8, 3. , 1.4, 0.3]), array([6.3, 3.4, 5.6, 2.4]), array([4.9, 3.1, 1.5, 0.1]), array([4.6, 3.1, 1.5, 0.2]), array([4.7, 3.2, 1.3, 0.2]), array([5.7, 2.9, 4.2, 1.3]), array([5. , 3.3, 1.4, 0.2]), array([6.4, 3.1, 5.5, 1.8]), array([6.7, 2.5, 5.8, 1.8]), array([5.1, 3.8, 1.9, 0.4]), array([4.9, 2.4, 3.3, 1. ]), array([5.1, 3.7, 1.5, 0.4]), array([5.1, 3.5, 1.4, 0.2])], [2, 1, 2, 2, 1, 2, 0, 2, 1, 2, 1, 1, 2, 2, 0]]\n"
     ]
    }
   ],
   "source": [
    "from numpy.random import randint\n",
    "\n",
    "#Définir une fonction qui exécute un train_test split  avec 2/3 des données pour training  et 1/3 pour le test\n",
    "def split(dataset):\n",
    "  dataS1=[]\n",
    "  targetS1=[]\n",
    "  dataS2=[]\n",
    "  targetS2=[]\n",
    "  for i in range(135):\n",
    "    dataS1.append(dataset.data[randint(low=0, high=150)])\n",
    "    targetS1.append(dataset.target[randint(low=0, high=150)])\n",
    "  for i in range(15):\n",
    "    dataS2.append(dataset.data[randint(low=0, high=150)])\n",
    "    targetS2.append(dataset.target[randint(low=0, high=150)])\n",
    "  return [dataS1, targetS1, dataS2, targetS2]\n",
    "print(split(irisData))"
   ]
  },
  {
   "cell_type": "code",
   "execution_count": 30,
   "id": "172a750b",
   "metadata": {},
   "outputs": [
    {
     "data": {
      "text/plain": [
       "0.7333333333333333"
      ]
     },
     "execution_count": 30,
     "metadata": {},
     "output_type": "execute_result"
    }
   ],
   "source": [
    "from sklearn import naive_bayes\n",
    "import numpy as np\n",
    "from sklearn.metrics import mean_squared_error\n",
    "\n",
    "\n",
    "def test(s,clf):\n",
    "    datas1=split(s)[0]\n",
    "    targets1=split(s)[1]\n",
    "    datas2=split(s)[2]\n",
    "    targets2=split(s)[3]\n",
    "    clf.fit(datas1,targets1)\n",
    "    #print(test_splitting(s,0.1)[0][:])\n",
    "    p=clf.predict(datas2)\n",
    "    \n",
    "    #print(p)\n",
    "    #print(targets2)\n",
    "    #print(np.count_nonzero(targets2-p))\n",
    "    erreur=np.count_nonzero((targets2-p))/len(targets2)\n",
    "    return(erreur)\n",
    "    #mean_squared_error(p, y_test)\n",
    "\n",
    "    \n",
    "test(irisData,naive_bayes.MultinomialNB(fit_prior=True))"
   ]
  },
  {
   "cell_type": "markdown",
   "id": "560d2e20",
   "metadata": {},
   "source": [
    "### Erreur Stable"
   ]
  },
  {
   "cell_type": "code",
   "execution_count": 42,
   "id": "2432b727",
   "metadata": {},
   "outputs": [
    {
     "name": "stdout",
     "output_type": "stream",
     "text": [
      "0.6686868686868686\n"
     ]
    }
   ],
   "source": [
    "# question c\n",
    "\n",
    "e=0\n",
    "for t in range(100):\n",
    "    erreur=test(irisData,naive_bayes.MultinomialNB(fit_prior=True))\n",
    "    e=e+erreur\n",
    "\n",
    "print(e/t)    \n"
   ]
  },
  {
   "cell_type": "markdown",
   "id": "86c75755",
   "metadata": {},
   "source": [
    "### Train test split\n"
   ]
  },
  {
   "cell_type": "code",
   "execution_count": 32,
   "id": "5afb01ad",
   "metadata": {},
   "outputs": [
    {
     "data": {
      "text/plain": [
       "[array([[6.5, 3.2, 5.1, 2. ],\n",
       "        [5.1, 3.3, 1.7, 0.5],\n",
       "        [4.9, 3.1, 1.5, 0.1],\n",
       "        [6.7, 3.1, 4.7, 1.5],\n",
       "        [6.1, 3. , 4.6, 1.4],\n",
       "        [5.5, 2.5, 4. , 1.3],\n",
       "        [5.7, 2.6, 3.5, 1. ],\n",
       "        [5.8, 2.7, 5.1, 1.9],\n",
       "        [6.7, 3.1, 4.4, 1.4],\n",
       "        [6.4, 3.2, 5.3, 2.3],\n",
       "        [4.5, 2.3, 1.3, 0.3],\n",
       "        [6.7, 3.3, 5.7, 2.1],\n",
       "        [5.7, 3. , 4.2, 1.2],\n",
       "        [5.1, 3.7, 1.5, 0.4],\n",
       "        [4.8, 3.4, 1.6, 0.2],\n",
       "        [6.3, 2.9, 5.6, 1.8],\n",
       "        [6.4, 2.9, 4.3, 1.3],\n",
       "        [7.7, 2.8, 6.7, 2. ],\n",
       "        [7.7, 2.6, 6.9, 2.3],\n",
       "        [5.1, 3.8, 1.9, 0.4],\n",
       "        [6.4, 3.2, 4.5, 1.5],\n",
       "        [5.5, 2.4, 3.7, 1. ],\n",
       "        [5.9, 3. , 5.1, 1.8],\n",
       "        [4.8, 3. , 1.4, 0.1],\n",
       "        [7.2, 3. , 5.8, 1.6],\n",
       "        [6.3, 3.3, 4.7, 1.6],\n",
       "        [7. , 3.2, 4.7, 1.4],\n",
       "        [5. , 3. , 1.6, 0.2],\n",
       "        [6.4, 2.8, 5.6, 2.1],\n",
       "        [6.3, 2.5, 5. , 1.9],\n",
       "        [5. , 3.5, 1.6, 0.6],\n",
       "        [4.9, 3. , 1.4, 0.2],\n",
       "        [6.1, 2.8, 4. , 1.3],\n",
       "        [6.5, 2.8, 4.6, 1.5],\n",
       "        [6.3, 3.3, 6. , 2.5],\n",
       "        [5.8, 4. , 1.2, 0.2],\n",
       "        [4.6, 3.4, 1.4, 0.3],\n",
       "        [5.5, 2.4, 3.8, 1.1],\n",
       "        [5. , 3.4, 1.6, 0.4],\n",
       "        [5.9, 3.2, 4.8, 1.8],\n",
       "        [6.9, 3.1, 5.4, 2.1],\n",
       "        [4.8, 3.1, 1.6, 0.2],\n",
       "        [6.7, 2.5, 5.8, 1.8],\n",
       "        [5.7, 4.4, 1.5, 0.4],\n",
       "        [5.7, 3.8, 1.7, 0.3],\n",
       "        [6.7, 3. , 5. , 1.7],\n",
       "        [4.6, 3.6, 1. , 0.2],\n",
       "        [5.4, 3.7, 1.5, 0.2],\n",
       "        [6.6, 2.9, 4.6, 1.3],\n",
       "        [7.3, 2.9, 6.3, 1.8],\n",
       "        [6.6, 3. , 4.4, 1.4],\n",
       "        [5.6, 2.9, 3.6, 1.3],\n",
       "        [5.6, 2.5, 3.9, 1.1],\n",
       "        [4.6, 3.1, 1.5, 0.2],\n",
       "        [5. , 3.5, 1.3, 0.3],\n",
       "        [6.8, 2.8, 4.8, 1.4],\n",
       "        [6.1, 2.6, 5.6, 1.4],\n",
       "        [4.9, 3.1, 1.5, 0.2],\n",
       "        [5.2, 3.5, 1.5, 0.2],\n",
       "        [5.6, 2.7, 4.2, 1.3],\n",
       "        [6. , 3.4, 4.5, 1.6],\n",
       "        [6.2, 2.9, 4.3, 1.3],\n",
       "        [7.1, 3. , 5.9, 2.1],\n",
       "        [6.9, 3.1, 4.9, 1.5],\n",
       "        [5.8, 2.6, 4. , 1.2],\n",
       "        [5.7, 2.8, 4.1, 1.3],\n",
       "        [7.6, 3. , 6.6, 2.1],\n",
       "        [5. , 3.4, 1.5, 0.2],\n",
       "        [5.3, 3.7, 1.5, 0.2],\n",
       "        [5.9, 3. , 4.2, 1.5],\n",
       "        [6.9, 3.2, 5.7, 2.3],\n",
       "        [6.4, 3.1, 5.5, 1.8],\n",
       "        [7.2, 3.2, 6. , 1.8],\n",
       "        [6.5, 3. , 5.2, 2. ],\n",
       "        [5.1, 3.4, 1.5, 0.2],\n",
       "        [5.4, 3. , 4.5, 1.5],\n",
       "        [4.7, 3.2, 1.3, 0.2],\n",
       "        [5.8, 2.7, 4.1, 1. ],\n",
       "        [5.7, 2.8, 4.5, 1.3],\n",
       "        [5. , 3.3, 1.4, 0.2],\n",
       "        [6.2, 2.2, 4.5, 1.5],\n",
       "        [6.7, 3.1, 5.6, 2.4],\n",
       "        [6. , 2.9, 4.5, 1.5],\n",
       "        [6.7, 3.3, 5.7, 2.5],\n",
       "        [6.4, 2.7, 5.3, 1.9],\n",
       "        [5.2, 4.1, 1.5, 0.1],\n",
       "        [6.1, 2.8, 4.7, 1.2],\n",
       "        [4.6, 3.2, 1.4, 0.2],\n",
       "        [6.2, 3.4, 5.4, 2.3],\n",
       "        [5.7, 2.5, 5. , 2. ],\n",
       "        [5.7, 2.9, 4.2, 1.3],\n",
       "        [4.9, 2.4, 3.3, 1. ],\n",
       "        [6.3, 2.7, 4.9, 1.8],\n",
       "        [4.9, 2.5, 4.5, 1.7],\n",
       "        [6. , 2.7, 5.1, 1.6],\n",
       "        [5.1, 3.5, 1.4, 0.3],\n",
       "        [5.1, 2.5, 3. , 1.1],\n",
       "        [5.6, 3. , 4.5, 1.5],\n",
       "        [6.2, 2.8, 4.8, 1.8],\n",
       "        [7.2, 3.6, 6.1, 2.5]]),\n",
       " array([[6.3, 2.5, 4.9, 1.5],\n",
       "        [6.8, 3. , 5.5, 2.1],\n",
       "        [6.4, 2.8, 5.6, 2.2],\n",
       "        [5.6, 3. , 4.1, 1.3],\n",
       "        [4.9, 3.6, 1.4, 0.1],\n",
       "        [6. , 3. , 4.8, 1.8],\n",
       "        [6.3, 2.3, 4.4, 1.3],\n",
       "        [4.4, 3.2, 1.3, 0.2],\n",
       "        [4.4, 2.9, 1.4, 0.2],\n",
       "        [5.5, 2.6, 4.4, 1.2],\n",
       "        [6.9, 3.1, 5.1, 2.3],\n",
       "        [5.5, 4.2, 1.4, 0.2],\n",
       "        [5.2, 2.7, 3.9, 1.4],\n",
       "        [6.5, 3. , 5.5, 1.8],\n",
       "        [7.7, 3. , 6.1, 2.3],\n",
       "        [6.5, 3. , 5.8, 2.2],\n",
       "        [5.5, 3.5, 1.3, 0.2],\n",
       "        [4.3, 3. , 1.1, 0.1],\n",
       "        [6.1, 2.9, 4.7, 1.4],\n",
       "        [4.8, 3. , 1.4, 0.3],\n",
       "        [5.2, 3.4, 1.4, 0.2],\n",
       "        [6.3, 2.8, 5.1, 1.5],\n",
       "        [4.8, 3.4, 1.9, 0.2],\n",
       "        [6.1, 3. , 4.9, 1.8],\n",
       "        [5.1, 3.8, 1.6, 0.2],\n",
       "        [5.4, 3.4, 1.7, 0.2],\n",
       "        [5.4, 3.4, 1.5, 0.4],\n",
       "        [5.6, 2.8, 4.9, 2. ],\n",
       "        [7.7, 3.8, 6.7, 2.2],\n",
       "        [5. , 3.6, 1.4, 0.2],\n",
       "        [7.4, 2.8, 6.1, 1.9],\n",
       "        [6. , 2.2, 5. , 1.5],\n",
       "        [4.7, 3.2, 1.6, 0.2],\n",
       "        [5.1, 3.5, 1.4, 0.2],\n",
       "        [6. , 2.2, 4. , 1. ],\n",
       "        [5. , 2.3, 3.3, 1. ],\n",
       "        [7.9, 3.8, 6.4, 2. ],\n",
       "        [5.4, 3.9, 1.7, 0.4],\n",
       "        [5.4, 3.9, 1.3, 0.4],\n",
       "        [5.8, 2.7, 3.9, 1.2],\n",
       "        [5. , 2. , 3.5, 1. ],\n",
       "        [5. , 3.2, 1.2, 0.2],\n",
       "        [6.8, 3.2, 5.9, 2.3],\n",
       "        [6.7, 3. , 5.2, 2.3],\n",
       "        [5.8, 2.7, 5.1, 1.9],\n",
       "        [5.8, 2.8, 5.1, 2.4],\n",
       "        [6.3, 3.4, 5.6, 2.4],\n",
       "        [5.5, 2.3, 4. , 1.3],\n",
       "        [5.1, 3.8, 1.5, 0.3],\n",
       "        [4.4, 3. , 1.3, 0.2]]),\n",
       " array([2, 0, 0, 1, 1, 1, 1, 2, 1, 2, 0, 2, 1, 0, 0, 2, 1, 2, 2, 0, 1, 1,\n",
       "        2, 0, 2, 1, 1, 0, 2, 2, 0, 0, 1, 1, 2, 0, 0, 1, 0, 1, 2, 0, 2, 0,\n",
       "        0, 1, 0, 0, 1, 2, 1, 1, 1, 0, 0, 1, 2, 0, 0, 1, 1, 1, 2, 1, 1, 1,\n",
       "        2, 0, 0, 1, 2, 2, 2, 2, 0, 1, 0, 1, 1, 0, 1, 2, 1, 2, 2, 0, 1, 0,\n",
       "        2, 2, 1, 1, 2, 2, 1, 0, 1, 1, 2, 2]),\n",
       " array([1, 2, 2, 1, 0, 2, 1, 0, 0, 1, 2, 0, 1, 2, 2, 2, 0, 0, 1, 0, 0, 2,\n",
       "        0, 2, 0, 0, 0, 2, 2, 0, 2, 2, 0, 0, 1, 1, 2, 0, 0, 1, 1, 0, 2, 2,\n",
       "        2, 2, 2, 1, 0, 0])]"
      ]
     },
     "execution_count": 32,
     "metadata": {},
     "output_type": "execute_result"
    }
   ],
   "source": [
    "from sklearn.model_selection import train_test_split\n",
    "from sklearn.datasets import load_iris\n",
    "def test_splitting(dataset,nb):\n",
    "    x, y = dataset.data, dataset.target\n",
    "    x_train,x_test,y_train,y_test=train_test_split(x,y,test_size=nb,random_state=123)\n",
    "    #print(len(x_train))\n",
    "    #print(len(x_test))\n",
    "    return([x_train,x_test,y_train,y_test])\n",
    "test_splitting(irisData,0.33)"
   ]
  },
  {
   "cell_type": "code",
   "execution_count": 33,
   "id": "6c4f61a4",
   "metadata": {},
   "outputs": [
    {
     "data": {
      "text/plain": [
       "0.36"
      ]
     },
     "execution_count": 33,
     "metadata": {},
     "output_type": "execute_result"
    }
   ],
   "source": [
    "def testspliterror(s,clf):\n",
    "    nb=0.33\n",
    "    D_train=test_splitting(s,nb)[0]\n",
    "    D_test=test_splitting(s,nb)[1]\n",
    "    C_train=test_splitting(s,nb)[2]\n",
    "    C_test=test_splitting(s,nb)[3]\n",
    "    clf.fit(D_train,C_train)\n",
    "    #print(test_splitting(s,0.1)[0][:])\n",
    "    p=clf.predict(D_test)\n",
    "    \n",
    "    #print(p)\n",
    "    #print(targets2)\n",
    "    #print(np.count_nonzero(targets2-p))\n",
    "    erreur=np.count_nonzero((C_test-p))/len(C_test)\n",
    "    return(erreur)\n",
    "    #mean_squared_error(p, y_test)\n",
    "testspliterror(irisData,naive_bayes.MultinomialNB(fit_prior=True))"
   ]
  },
  {
   "cell_type": "code",
   "execution_count": 46,
   "id": "d2d6d71f",
   "metadata": {},
   "outputs": [
    {
     "name": "stdout",
     "output_type": "stream",
     "text": [
      "0.046666666666666655\n"
     ]
    }
   ],
   "source": [
    "from sklearn.model_selection import cross_val_score\n",
    "from sklearn import naive_bayes\n",
    "import numpy\n",
    "\n",
    "nb_clf = naive_bayes.MultinomialNB(fit_prior=True)\n",
    "i=10\n",
    "error = numpy.average(1-  cross_val_score(nb_clf,irisData.data,irisData.target,cv=i))\n",
    "print(error)\n"
   ]
  },
  {
   "cell_type": "code",
   "execution_count": 39,
   "id": "d96a877e",
   "metadata": {},
   "outputs": [
    {
     "name": "stdout",
     "output_type": "stream",
     "text": [
      "Model: Naive Bayes\n"
     ]
    },
    {
     "data": {
      "image/png": "[encoded data removed]",
      "text/plain": [
       "<Figure size 432x216 with 1 Axes>"
      ]
     },
     "metadata": {
      "needs_background": "light"
     },
     "output_type": "display_data"
    },
    {
     "name": "stdout",
     "output_type": "stream",
     "text": [
      "meilleurTestPer :  0.1\n",
      "erreur min:  0.12\n",
      "\n",
      "--------------------\n",
      "\n",
      "Model: KNN\n"
     ]
    },
    {
     "data": {
      "image/png": "[encoded data removed]",
      "text/plain": [
       "<Figure size 432x216 with 1 Axes>"
      ]
     },
     "metadata": {
      "needs_background": "light"
     },
     "output_type": "display_data"
    },
    {
     "name": "stdout",
     "output_type": "stream",
     "text": [
      "meilleurTestPer :  0.25000000000000006\n",
      "erreur min:  0.023684210526315787\n",
      "\n",
      "--------------------\n",
      "\n",
      "Model: Decision Tree\n"
     ]
    },
    {
     "data": {
      "image/png": "[encoded data removed]",
      "text/plain": [
       "<Figure size 432x216 with 1 Axes>"
      ]
     },
     "metadata": {
      "needs_background": "light"
     },
     "output_type": "display_data"
    },
    {
     "name": "stdout",
     "output_type": "stream",
     "text": [
      "meilleurTestPer :  0.1\n",
      "erreur min:  0.046666666666666655\n",
      "\n",
      "--------------------\n",
      "\n",
      "Model: Random Forest\n"
     ]
    },
    {
     "data": {
      "image/png": "[encoded data removed]",
      "text/plain": [
       "<Figure size 432x216 with 1 Axes>"
      ]
     },
     "metadata": {
      "needs_background": "light"
     },
     "output_type": "display_data"
    },
    {
     "name": "stdout",
     "output_type": "stream",
     "text": [
      "meilleurTestPer :  0.1\n",
      "erreur min:  0.033333333333333326\n",
      "\n",
      "--------------------\n",
      "\n"
     ]
    }
   ],
   "source": [
    "from sklearn.model_selection import train_test_split\n",
    "from sklearn.ensemble import RandomForestClassifier\n",
    "from sklearn.neighbors import KNeighborsClassifier\n",
    "from sklearn.tree import DecisionTreeClassifier\n",
    "import matplotlib.pyplot as plt\n",
    "import numpy as np\n",
    "# Définir une liste de modèles et voir lequel est le plus performant\n",
    "models={\n",
    "    \"Naive Bayes\": lambda: naive_bayes.MultinomialNB(fit_prior=True),\n",
    "     \"KNN\": KNeighborsClassifier,\n",
    "    \"Decision Tree\": DecisionTreeClassifier,\n",
    "    \"Random Forest\": RandomForestClassifier\n",
    "}\n",
    "# Itérer à travers les modèles\n",
    "for model_name, model in models.items():\n",
    "    print(f\"Model: {model_name}\")\n",
    "    # Définir une map pour stocker l'erreur pour chaque pourcentage de test\n",
    "    errorMap={}\n",
    "    for testPer in np.arange(0.1, 0.9, 0.05):\n",
    "        err = np.array([])\n",
    "        # Entraînez le modèle donné 10 fois et obtenez l'erreur moyenne sur les 10 fois pour l'affecter au poucentage de test donné\n",
    "        for i in range(10):\n",
    "            data_train, data_test, target_train, target_test = train_test_split(irisData.data, irisData.target, test_size=testPer)\n",
    "            m = model()\n",
    "            m.fit(data_train, target_train)\n",
    "            erreur = 1 - m.score(data_test, target_test)\n",
    "            err = np.append(err, erreur)\n",
    "\n",
    "        errorMap[testPer] = err.mean()\n",
    "\n",
    "    #  la visualisation du graphique  d'erreur par pourcentage de test pour chaque modèle\n",
    "    x=list(errorMap.keys())\n",
    "    y=list(errorMap.values())\n",
    "\n",
    "    fig = plt.figure(figsize = (6, 3))\n",
    "    plt.bar(x, y, width = 0.01)\n",
    "    plt.title(model_name)\n",
    "    plt.xlabel(\"Pourcentage de test\")\n",
    "    plt.ylabel(\"Erreur\")\n",
    "    plt.show()\n",
    "\n",
    "    # Print out the optimal test size and the according accuracy computed for each model \n",
    "    meilleurTestPer = min(errorMap, key = errorMap.get) # return the key whose value is the smallest\n",
    "    print(\"meilleurTestPer : \", meilleurTestPer)\n",
    "    print(\"erreur min: \",errorMap[meilleurTestPer])\n",
    "    print(\"\\n\" + '-'*20 + \"\\n\")"
   ]
  },
  {
   "cell_type": "code",
   "execution_count": null,
   "id": "a77670c1",
   "metadata": {},
   "outputs": [],
   "source": []
  }
 ],
 "metadata": {
  "kernelspec": {
   "display_name": "Python 3 (ipykernel)",
   "language": "python",
   "name": "python3"
  },
  "language_info": {
   "codemirror_mode": {
    "name": "ipython",
    "version": 3
   },
   "file_extension": ".py",
   "mimetype": "text/x-python",
   "name": "python",
   "nbconvert_exporter": "python",
   "pygments_lexer": "ipython3",
   "version": "3.9.12"
  }
 },
 "nbformat": 4,
 "nbformat_minor": 5
}
